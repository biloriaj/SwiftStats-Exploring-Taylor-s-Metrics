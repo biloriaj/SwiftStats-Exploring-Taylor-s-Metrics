{
  "nbformat": 4,
  "nbformat_minor": 0,
  "metadata": {
    "colab": {
      "provenance": [],
      "authorship_tag": "ABX9TyOHzoEJ+aFc7p871/Y1ZRRG",
      "include_colab_link": true
    },
    "kernelspec": {
      "name": "python3",
      "display_name": "Python 3"
    },
    "language_info": {
      "name": "python"
    }
  },
  "cells": [
    {
      "cell_type": "markdown",
      "metadata": {
        "id": "view-in-github",
        "colab_type": "text"
      },
      "source": [
        "<a href=\"https://colab.research.google.com/github/biloriaj/SwiftStats-Exploring-Taylor-s-Metrics/blob/main/Data_Cleaning_Taylor_2023.ipynb\" target=\"_parent\"><img src=\"https://colab.research.google.com/assets/colab-badge.svg\" alt=\"Open In Colab\"/></a>"
      ]
    },
    {
      "cell_type": "code",
      "execution_count": 3,
      "metadata": {
        "colab": {
          "base_uri": "https://localhost:8080/"
        },
        "id": "8TvBWo3ymgzg",
        "outputId": "f835976b-6751-4e31-83ba-55a22921f020"
      },
      "outputs": [
        {
          "output_type": "stream",
          "name": "stdout",
          "text": [
            "   Unnamed: 0                                           name  \\\n",
            "0           0         Welcome To New York (Taylor's Version)   \n",
            "1           1                 Blank Space (Taylor's Version)   \n",
            "2           2                       Style (Taylor's Version)   \n",
            "3           3            Out Of The Woods (Taylor's Version)   \n",
            "4           4  All You Had To Do Was Stay (Taylor's Version)   \n",
            "\n",
            "                              album release_date  track_number  \\\n",
            "0  1989 (Taylor's Version) [Deluxe]   2023-10-27             1   \n",
            "1  1989 (Taylor's Version) [Deluxe]   2023-10-27             2   \n",
            "2  1989 (Taylor's Version) [Deluxe]   2023-10-27             3   \n",
            "3  1989 (Taylor's Version) [Deluxe]   2023-10-27             4   \n",
            "4  1989 (Taylor's Version) [Deluxe]   2023-10-27             5   \n",
            "\n",
            "                       id                                   uri  acousticness  \\\n",
            "0  4WUepByoeqcedHoYhSNHRt  spotify:track:4WUepByoeqcedHoYhSNHRt      0.009420   \n",
            "1  0108kcWLnn2HlH2kedi1gn  spotify:track:0108kcWLnn2HlH2kedi1gn      0.088500   \n",
            "2  3Vpk1hfMAQme8VJ0SNRSkd  spotify:track:3Vpk1hfMAQme8VJ0SNRSkd      0.000421   \n",
            "3  1OcSfkeCg9hRC2sFKB4IMJ  spotify:track:1OcSfkeCg9hRC2sFKB4IMJ      0.000537   \n",
            "4  2k0ZEeAqzvYMcx9Qt5aClQ  spotify:track:2k0ZEeAqzvYMcx9Qt5aClQ      0.000656   \n",
            "\n",
            "   danceability  energy  instrumentalness  liveness  loudness  speechiness  \\\n",
            "0         0.757   0.610          0.000037    0.3670    -4.840       0.0327   \n",
            "1         0.733   0.733          0.000000    0.1680    -5.376       0.0670   \n",
            "2         0.511   0.822          0.019700    0.0899    -4.785       0.0397   \n",
            "3         0.545   0.885          0.000056    0.3850    -5.968       0.0447   \n",
            "4         0.588   0.721          0.000000    0.1310    -5.579       0.0317   \n",
            "\n",
            "     tempo  valence  popularity  duration_ms  \n",
            "0  116.998    0.685          80       212600  \n",
            "1   96.057    0.701          80       231833  \n",
            "2   94.868    0.305          81       231000  \n",
            "3   92.021    0.206          80       235800  \n",
            "4   96.997    0.520          79       193289  \n"
          ]
        }
      ],
      "source": [
        "#Data cleaning with python\n",
        "import csv\n",
        "import pandas as pd\n",
        "\n",
        "path = \"/content/taylor_swift_spotify.csv\"\n",
        "output_path = \"/content/cleaned_taylor_swift_spotify.csv\"\n",
        "\n",
        "df = pd.read_csv(path)\n",
        "print(df.head())"
      ]
    },
    {
      "cell_type": "code",
      "source": [
        "# Clean up the data by removing rows with null values in specified columns\n",
        "columns_to_clean = ['acousticness', 'danceability', 'energy', 'instrumentalness', 'liveness', 'loudness', 'speechiness', 'tempo', 'valence', 'popularity', 'duration_ms']\n",
        "df_cleaned = df.dropna(subset=columns_to_clean)\n",
        "\n",
        "# Save the cleaned DataFrame to a new CSV file\n",
        "df_cleaned.to_csv(output_path, index=False)\n",
        "\n",
        "print(f\"Cleaned data saved to: {output_path}\")"
      ],
      "metadata": {
        "colab": {
          "base_uri": "https://localhost:8080/"
        },
        "id": "F1vXhnyOmur9",
        "outputId": "9db940cb-3562-464b-8ddb-53b221155ac2"
      },
      "execution_count": 4,
      "outputs": [
        {
          "output_type": "stream",
          "name": "stdout",
          "text": [
            "Cleaned data saved to: /content/cleaned_taylor_swift_spotify.csv\n"
          ]
        }
      ]
    },
    {
      "cell_type": "code",
      "source": [
        "# Get the count of unique values in the \"album\" column and sort by count\n",
        "album_counts_sorted = df_cleaned['album'].value_counts().sort_values(ascending=False)\n",
        "\n",
        "# Print the sorted counts\n",
        "print(album_counts_sorted)"
      ],
      "metadata": {
        "colab": {
          "base_uri": "https://localhost:8080/"
        },
        "id": "UDfdZKT1jf5h",
        "outputId": "e85615bd-d789-4083-9de2-310b6b1f5df1"
      },
      "execution_count": 7,
      "outputs": [
        {
          "output_type": "stream",
          "name": "stdout",
          "text": [
            "reputation Stadium Tour Surprise Song Playlist                                         46\n",
            "folklore: the long pond studio sessions (from the Disney+ special) [deluxe edition]    34\n",
            "Red (Taylor's Version)                                                                 30\n",
            "Fearless (Taylor's Version)                                                            26\n",
            "Midnights (The Til Dawn Edition)                                                       23\n",
            "1989 (Taylor's Version) [Deluxe]                                                       22\n",
            "Speak Now (Taylor's Version)                                                           22\n",
            "Red (Deluxe Edition)                                                                   22\n",
            "1989 (Taylor's Version)                                                                21\n",
            "Midnights (3am Edition)                                                                20\n",
            "Speak Now (Deluxe Edition)                                                             20\n",
            "Fearless Platinum Edition                                                              19\n",
            "1989 (Deluxe Edition)                                                                  19\n",
            "Lover                                                                                  18\n",
            "folklore (deluxe version)                                                              17\n",
            "evermore (deluxe version)                                                              17\n",
            "folklore                                                                               16\n",
            "Red                                                                                    16\n",
            "Speak Now World Tour Live                                                              16\n",
            "reputation                                                                             15\n",
            "evermore                                                                               15\n",
            "Taylor Swift                                                                           15\n",
            "Speak Now                                                                              14\n",
            "1989                                                                                   13\n",
            "Midnights                                                                              13\n",
            "Fearless                                                                               13\n",
            "Live From Clear Channel Stripped 2008                                                   8\n",
            "Name: album, dtype: int64\n"
          ]
        }
      ]
    },
    {
      "cell_type": "code",
      "source": [
        "#I'm focus this just in the following columns = danceability and energy"
      ],
      "metadata": {
        "id": "icd-VZPajgCw"
      },
      "execution_count": null,
      "outputs": []
    },
    {
      "cell_type": "code",
      "source": [
        "# Group by the \"album\" column and calculate the average for \"danceability\" and \"energy\"\n",
        "album_avg_values = df_cleaned.groupby('album')[['danceability', 'energy']].mean().sort_index()\n",
        "# Print the average values\n",
        "print(album_avg_values)"
      ],
      "metadata": {
        "colab": {
          "base_uri": "https://localhost:8080/"
        },
        "id": "-lEG3ELljgFN",
        "outputId": "cfa3a429-b1e7-4214-cdbd-b4a7719da408"
      },
      "execution_count": 14,
      "outputs": [
        {
          "output_type": "stream",
          "name": "stdout",
          "text": [
            "                                                    danceability    energy\n",
            "album                                                                     \n",
            "1989                                                    0.649385  0.699077\n",
            "1989 (Deluxe Edition)                                   0.633211  0.624842\n",
            "1989 (Taylor's Version)                                 0.632095  0.665143\n",
            "1989 (Taylor's Version) [Deluxe]                        0.619455  0.664318\n",
            "Fearless                                                0.592769  0.637308\n",
            "Fearless (Taylor's Version)                             0.551038  0.639115\n",
            "Fearless Platinum Edition                               0.575947  0.601053\n",
            "Live From Clear Channel Stripped 2008                   0.548125  0.598875\n",
            "Lover                                                   0.658222  0.545222\n",
            "Midnights                                               0.638538  0.410154\n",
            "Midnights (3am Edition)                                 0.626650  0.451150\n",
            "Midnights (The Til Dawn Edition)                        0.624130  0.470522\n",
            "Red                                                     0.622875  0.619563\n",
            "Red (Deluxe Edition)                                    0.633364  0.600773\n",
            "Red (Taylor's Version)                                  0.576967  0.586900\n",
            "Speak Now                                               0.544929  0.663286\n",
            "Speak Now (Deluxe Edition)                              0.556450  0.647900\n",
            "Speak Now (Taylor's Version)                            0.551364  0.655455\n",
            "Speak Now World Tour Live                               0.441312  0.650250\n",
            "Taylor Swift                                            0.545267  0.664267\n",
            "evermore                                                0.518867  0.491333\n",
            "evermore (deluxe version)                               0.526824  0.494059\n",
            "folklore                                                0.567875  0.425063\n",
            "folklore (deluxe version)                               0.541941  0.415824\n",
            "folklore: the long pond studio sessions (from t...      0.551441  0.373412\n",
            "reputation                                              0.657933  0.582867\n",
            "reputation Stadium Tour Surprise Song Playlist          0.596413  0.653239\n"
          ]
        }
      ]
    },
    {
      "cell_type": "code",
      "source": [
        "# List of albums you are interested in\n",
        "albums_of_interest = ['1989', 'Fearless', 'Lover', 'Midnights', 'Red', 'Speak Now', 'evermore', 'folklore', 'reputation']\n",
        "\n",
        "# Filter the results for the specified albums\n",
        "filtered_results = df_cleaned.groupby('album')[['danceability', 'energy']].mean().loc[albums_of_interest]\n",
        "\n",
        "# Print the filtered results\n",
        "print(filtered_results)"
      ],
      "metadata": {
        "colab": {
          "base_uri": "https://localhost:8080/"
        },
        "id": "2Y_i85qElYXf",
        "outputId": "07600747-2877-4089-974b-2c8c38cc5b69"
      },
      "execution_count": 15,
      "outputs": [
        {
          "output_type": "stream",
          "name": "stdout",
          "text": [
            "            danceability    energy\n",
            "album                             \n",
            "1989            0.649385  0.699077\n",
            "Fearless        0.592769  0.637308\n",
            "Lover           0.658222  0.545222\n",
            "Midnights       0.638538  0.410154\n",
            "Red             0.622875  0.619563\n",
            "Speak Now       0.544929  0.663286\n",
            "evermore        0.518867  0.491333\n",
            "folklore        0.567875  0.425063\n",
            "reputation      0.657933  0.582867\n"
          ]
        }
      ]
    },
    {
      "cell_type": "code",
      "source": [
        "# Albums in Order\n",
        "# Taylor Swift (2006)\n",
        "# Fearless (2008)\n",
        "# Speak Now (2010)\n",
        "# Red (2012)\n",
        "# 1989 (2014)\n",
        "# Reputation (2017)\n",
        "# Lover (2019)\n",
        "# Folklore (2020)\n",
        "# Evermore (2020)\n",
        "# Midnights (2022)"
      ],
      "metadata": {
        "id": "La_X7WA-llIh"
      },
      "execution_count": null,
      "outputs": []
    },
    {
      "cell_type": "code",
      "source": [
        "# Specify the URL of the Wikipedia page\n",
        "url = 'https://en.wikipedia.org/wiki/List_of_Taylor_Swift_live_performances'\n",
        "\n",
        "# Read the table from the Wikipedia page\n",
        "tables = pd.read_html(url)\n",
        "\n",
        "# Display the number of tables found on the page\n",
        "print(f\"Number of tables found: {len(tables)}\")\n",
        "\n",
        " # Select the desired table (adjust the index accordingly)\n",
        "selected_table = tables[2 - 1]\n",
        "print(selected_table.head(10))"
      ],
      "metadata": {
        "colab": {
          "base_uri": "https://localhost:8080/"
        },
        "id": "5O6BLb1Mmj6R",
        "outputId": "466153be-7139-4e54-c8a5-146fa053ed8e"
      },
      "execution_count": 25,
      "outputs": [
        {
          "output_type": "stream",
          "name": "stdout",
          "text": [
            "Number of tables found: 14\n",
            "                     Title                              Dates  \\\n",
            "0            Fearless Tour     April 23, 2009 – July 10, 2010   \n",
            "1     Speak Now World Tour  February 9, 2011 – March 18, 2012   \n",
            "2             The Red Tour     March 13, 2013 – June 12, 2014   \n",
            "3      The 1989 World Tour    May 5, 2015 – December 12, 2015   \n",
            "4  Reputation Stadium Tour    May 8, 2018 – November 21, 2018   \n",
            "5            The Eras Tour           March 17, 2023 – present   \n",
            "\n",
            "  Associated album(s)                              Countries/Territories  \\\n",
            "0            Fearless  .mw-parser-output .hlist dl,.mw-parser-output ...   \n",
            "1           Speak Now  United StatesCanadaAustraliaNew ZealandSingapo...   \n",
            "2                 Red  United StatesCanadaNew ZealandAustraliaUnited ...   \n",
            "3                1989  JapanUnited StatesGermanyNetherlandsScotlandEn...   \n",
            "4          Reputation  United StatesEnglandIrelandCanadaAustraliaNew ...   \n",
            "5             Various  United StatesMexicoArgentinaBrazilJapanAustral...   \n",
            "\n",
            "   Shows Attendance         Gross Adjusted gross (in 2023 dollar)  Ref.  \n",
            "0    118    1200000   $66,500,000                     $89,241,721  [15]  \n",
            "1    110    1640000  $123,700,000                    $157,677,605   [8]  \n",
            "2     86    1700000  $150,200,000                    $191,456,559   [9]  \n",
            "3     85    2280000  $250,700,000                    $319,561,647  [10]  \n",
            "4     53    2939000  $345,700,000                    $440,656,008  [16]  \n",
            "5    151        TBA           TBA                             TBA  [17]  \n"
          ]
        }
      ]
    },
    {
      "cell_type": "code",
      "source": [],
      "metadata": {
        "id": "fHw8eHWDm-XB"
      },
      "execution_count": 25,
      "outputs": []
    }
  ]
}